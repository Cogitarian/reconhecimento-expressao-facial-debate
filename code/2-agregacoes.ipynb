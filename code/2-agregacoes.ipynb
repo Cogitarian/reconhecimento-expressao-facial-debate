{
 "cells": [
  {
   "cell_type": "markdown",
   "metadata": {},
   "source": [
    "# Agregações"
   ]
  },
  {
   "cell_type": "markdown",
   "metadata": {},
   "source": [
    "Esse script pega o csv que foi salvo no arquivo `coleta-de-dados.ipynb` e cria agregações diversas, que foram usadas para gerar as visualizações de dados."
   ]
  },
  {
   "cell_type": "code",
   "execution_count": null,
   "metadata": {
    "collapsed": true
   },
   "outputs": [],
   "source": [
    "import pandas as pd\n",
    "import json\n",
    "from datetime import datetime"
   ]
  },
  {
   "cell_type": "code",
   "execution_count": null,
   "metadata": {
    "collapsed": true
   },
   "outputs": [],
   "source": [
    "now = str(datetime.now())[:-7]\n",
    "now = now.replace(' ','_')\n",
    "now = now.replace(\":\",\"-\")"
   ]
  },
  {
   "cell_type": "code",
   "execution_count": null,
   "metadata": {
    "collapsed": true
   },
   "outputs": [],
   "source": [
    "df = pd.read_csv(\"../data/output_files/debate-gazeta/api_output_2018-09-11_11-08-28.csv\")"
   ]
  },
  {
   "cell_type": "code",
   "execution_count": null,
   "metadata": {
    "collapsed": true
   },
   "outputs": [],
   "source": [
    "pd.options.display.max_rows = 100\n",
    "# RemoveS warning\n",
    "pd.options.mode.chained_assignment = None"
   ]
  },
  {
   "cell_type": "markdown",
   "metadata": {},
   "source": [
    "#### 1. Sentimentos positivos e negativos ao longo do tempo\n",
    "A função cria um dataframe com a soma cumulativa das emoções de cada candidato. Emoções positivas são tratadas como valores positivos. Emoções negativas, como valores negativos. **Esses dados não foram usados na matéria.**"
   ]
  },
  {
   "cell_type": "code",
   "execution_count": null,
   "metadata": {
    "collapsed": true
   },
   "outputs": [],
   "source": [
    "def cumsum_dominant_feeling(df):\n",
    "    df = determine_dominant_emotion(df) \n",
    "\n",
    "    bad_feelings = ['anger', 'contempt', 'disgust', 'fear', 'sadness']\n",
    "    df = make_negative(df, bad_feelings)\n",
    "    df.drop(['neutral', 'blur'], axis=1, inplace=True)\n",
    "\n",
    "    df[\"value\"] = df.apply(get_value_of_dominant_emotion, axis=1)\n",
    "    df[\"cumsum\"] = df.value.cumsum()\n",
    "    df.drop(['index', 'anger', 'contempt', 'disgust', \n",
    "             'fear', 'happiness', 'sadness', 'surprise'], axis=1, inplace=True)\n",
    "    \n",
    "    return df"
   ]
  },
  {
   "cell_type": "code",
   "execution_count": null,
   "metadata": {
    "collapsed": true
   },
   "outputs": [],
   "source": [
    "def determine_dominant_emotion(df):\n",
    "    # Note the abscence of 'neutral' emotion and 'blur'\n",
    "    cols = ['anger', 'contempt', 'disgust', 'fear',\n",
    "            'happiness', 'sadness', 'surprise']\n",
    "    df['dominant_emotion'] = df[cols].idxmax(axis=1)\n",
    "    return df"
   ]
  },
  {
   "cell_type": "code",
   "execution_count": null,
   "metadata": {
    "collapsed": true
   },
   "outputs": [],
   "source": [
    "def make_negative(df, bad_feelings):\n",
    "    for item in bad_feelings:\n",
    "        df[item] = df[item] * -1\n",
    "    return df"
   ]
  },
  {
   "cell_type": "code",
   "execution_count": null,
   "metadata": {
    "collapsed": true
   },
   "outputs": [],
   "source": [
    "def get_value_of_dominant_emotion(row):\n",
    "    value = row[row.dominant_emotion]\n",
    "\n",
    "    return pd.Series({\n",
    "        'value':value\n",
    "    })"
   ]
  },
  {
   "cell_type": "code",
   "execution_count": null,
   "metadata": {
    "collapsed": true
   },
   "outputs": [],
   "source": [
    "# Runs function\n",
    "results = {}\n",
    "for name in df['name'].unique():\n",
    "    temp = df[df.name==name]\n",
    "    results[name] = cumsum_dominant_feeling(temp)\n",
    "    results[name].to_csv(\"../data/output_files/debate-tv-gazeta/cumsum_\" + name + '_' + now + \".csv\", index=False)"
   ]
  },
  {
   "cell_type": "markdown",
   "metadata": {},
   "source": [
    "#### 2. Qual o percentual de frames para cada emoção?\n",
    "Essa função determina qual é a emoção dominante, entre as cinco que escolhemos considerar (ver variável `cols`), de cada candidato em cada frame analisado. Depois, ela calcula o percentual do total de frames em que cada emoção foi predominante e salva para um csv."
   ]
  },
  {
   "cell_type": "code",
   "execution_count": null,
   "metadata": {
    "collapsed": true
   },
   "outputs": [],
   "source": [
    "def get_dominant_emotion_by_frame(df):\n",
    "    df = determine_dominant_emotion(df)\n",
    "    cols = ['happiness','surprise','contempt','anger','sadness']\n",
    "    \n",
    "    results = {}\n",
    "    for name in df['name'].unique():\n",
    "        values = df[df['name']==name].dominant_emotion.value_counts(normalize=True).to_dict()\n",
    "        for col in cols:\n",
    "            if col not in values.keys():\n",
    "                values[col] = 0\n",
    "        results[name] = pd.DataFrame(values, index=[name])\n",
    "        results[name] = results[name][cols] # Reordena\n",
    "        results[name] = results[name].drop([item for item in results[name].columns if item not in cols], axis=1) # Derruba colunas com valores que queremos ignorar\n",
    "        # Importante notar que, com esse drop, a soma dos valores de cada candidato não será de 100%.\n",
    "\n",
    "    results = pd.concat(item for item in results.values())\n",
    "    results = results.transpose().round(2)\n",
    "    results.index.name = 'emotion'\n",
    "    results = results.reset_index()\n",
    "    return results"
   ]
  },
  {
   "cell_type": "code",
   "execution_count": null,
   "metadata": {
    "collapsed": true
   },
   "outputs": [],
   "source": [
    "get_dominant_emotion_by_frame(df).to_csv('../data/output_files/debate-gazeta/emotion_by_frame_' + now + '.csv', index=False)"
   ]
  },
  {
   "cell_type": "markdown",
   "metadata": {},
   "source": [
    "#### 3. A média de cada emoção para cada candidato a cada minuto, calculada usando resample\n",
    "A função faz um resample da média de emoções demonstradas por cada candidato a cada minuto."
   ]
  },
  {
   "cell_type": "code",
   "execution_count": null,
   "metadata": {
    "collapsed": true
   },
   "outputs": [],
   "source": [
    "def get_resampled_average(strftime, df, now):\n",
    "    cands = df['name'].unique()\n",
    "    cols = ['anger', 'contempt', 'happiness', 'sadness', 'surprise']\n",
    "    json_arr = []\n",
    "    \n",
    "    # Primeiro, cria um df com a resample de todo o debate\n",
    "    json_object = {}\n",
    "    json_object['subject'] = 'total'\n",
    "    temp = df.copy()\n",
    "    \n",
    "    temp['timestamp'] = pd.to_datetime(temp.timestamp, format='%Hh-%Mm-%Ss')\n",
    "    temp = temp.set_index('timestamp').resample(strftime).mean().fillna(0).drop('index', axis=1).round(2)\n",
    "    temp = temp.to_dict(orient='list')\n",
    "    json_object['data'] = []\n",
    "    for k,v in temp.items():\n",
    "        if k in cols:\n",
    "            arr = []\n",
    "            arr.append(str(k))\n",
    "            arr.extend(temp[k])\n",
    "            json_object['data'].append(arr)\n",
    "        \n",
    "    json_arr.append(json_object)\n",
    "    \n",
    "    # Depois, cria um df com o resample de cada candidato\n",
    "    for cand in cands:\n",
    "        json_object = {}\n",
    "        json_object['subject'] = cand\n",
    "        temp = df.copy()\n",
    "            \n",
    "        temp = df[ df['name'] == cand ]\n",
    "        temp['timestamp'] = pd.to_datetime(temp.timestamp, format='%Hh-%Mm-%Ss')\n",
    "        temp = temp.set_index('timestamp').resample(strftime).mean().fillna(0).drop('index', axis=1).round(2)\n",
    "        temp = temp.to_dict(orient='list')\n",
    "        json_object['data'] = []\n",
    "        for k,v in temp.items():\n",
    "            if k in cols:\n",
    "                arr = []\n",
    "                arr.append(str(k))\n",
    "                arr.extend(temp[k])\n",
    "                json_object['data'].append(arr)\n",
    "        \n",
    "        json_arr.append(json_object)\n",
    "        \n",
    "    return json_arr"
   ]
  },
  {
   "cell_type": "code",
   "execution_count": null,
   "metadata": {
    "collapsed": true
   },
   "outputs": [],
   "source": [
    "# Salva json\n",
    "with open('../data/output_files/debate-gazeta/resampled_emotions_' + now + '.json', 'w') as output:\n",
    "    json.dump(get_resampled_average('T', df), output, indent=4)"
   ]
  },
  {
   "cell_type": "code",
   "execution_count": null,
   "metadata": {
    "collapsed": true
   },
   "outputs": [],
   "source": [
    "# Aqui, salvamos um resample da média para o arquivo csv\n",
    "def save_csv_resampled_average(strftime, df, now, all_cands):\n",
    "\n",
    "    if all_cands == True:\n",
    "        cols = ['timestamp', 'anger', 'contempt', 'happiness', 'sadness', 'surprise', 'neutral']\n",
    "        temp = df.copy()\n",
    "        temp['timestamp'] = pd.to_datetime(temp.timestamp, format='%Hh-%Mm-%Ss')\n",
    "        temp = temp.set_index('timestamp').resample('T').mean().fillna(0).drop('index', axis=1).round(2)\n",
    "        temp = temp.resample('T').mean().fillna(0).round(2).reset_index()\n",
    "        temp = temp[cols]\n",
    "        temp.to_csv(\"../data/output_files/debate-gazeta/resampled_emotions_all_candidates_2018-09-11_11-09-01.csv\", index=False)\n",
    "    else:\n",
    "        cols = ['name', 'timestamp', 'anger', 'contempt', 'happiness', 'sadness', 'surprise', 'neutral']\n",
    "        for cand in df[\"name\"].unique():\n",
    "            temp = df.copy()\n",
    "            temp = temp[temp[\"name\"]==cand]\n",
    "            temp['timestamp'] = pd.to_datetime(temp.timestamp, format='%Hh-%Mm-%Ss')\n",
    "            temp = temp.set_index('timestamp').resample('T').mean().fillna(0).drop('index', axis=1).round(2)\n",
    "            temp = temp.resample('T').mean().fillna(0).round(2).reset_index()\n",
    "            temp[\"name\"] = cand\n",
    "            temp = temp[cols]\n",
    "            temp.to_csv(\"../data/output_files/debate-gazeta/resampled_emotions_\" + cand +\"_2018-09-11_11-09-01.csv\", index=False)"
   ]
  },
  {
   "cell_type": "code",
   "execution_count": null,
   "metadata": {
    "collapsed": true
   },
   "outputs": [],
   "source": [
    "save_csv_resampled_average('T', df, now, False)\n",
    "save_csv_resampled_average('T', df, now, True)"
   ]
  }
 ],
 "metadata": {
  "kernelspec": {
   "display_name": "Python 3",
   "language": "python",
   "name": "python3"
  },
  "language_info": {
   "codemirror_mode": {
    "name": "ipython",
    "version": 3
   },
   "file_extension": ".py",
   "mimetype": "text/x-python",
   "name": "python",
   "nbconvert_exporter": "python",
   "pygments_lexer": "ipython3",
   "version": "3.6.3"
  }
 },
 "nbformat": 4,
 "nbformat_minor": 2
}
